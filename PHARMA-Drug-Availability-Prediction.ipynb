{
  "nbformat": 4,
  "nbformat_minor": 0,
  "metadata": {
    "colab": {
      "provenance": [],
      "include_colab_link": true
    },
    "kernelspec": {
      "name": "python3",
      "display_name": "Python 3"
    },
    "language_info": {
      "name": "python"
    }
  },
  "cells": [
    {
      "cell_type": "markdown",
      "metadata": {
        "id": "view-in-github",
        "colab_type": "text"
      },
      "source": [
        "<a href=\"https://colab.research.google.com/github/Leslyndizeye/PHARMA-Drug-Availability-Prediction/blob/main/PHARMA-Drug-Availability-Prediction.ipynb\" target=\"_parent\"><img src=\"https://colab.research.google.com/assets/colab-badge.svg\" alt=\"Open In Colab\"/></a>"
      ]
    },
    {
      "cell_type": "markdown",
      "source": [
        "# Optimization Techniques in Machine Learning - nearbyPHARMA Implementation\n",
        "\n",
        "## 1. Project Overview\n",
        "\n",
        "**nearbyPHARMA**: Drug Availability Prediction System\n",
        "\n",
        "Mission: Reduce medication stockouts in Rwandan pharmacies using ML\n",
        "\n",
        "Dataset: Pharmacy sales data with 8 drug categories (M01AB-N05C, R03, R06)\n",
        "Features: ['datum','M01AB','M01AE','N02BA','N02BE','N05B','N05C','R03','R06',\n",
        "           'Year','Month','Hour','Weekday Name']\n",
        "Target: Binary classification (In-Stock=1, Out-of-Stock=0)\n"
      ],
      "metadata": {
        "id": "ujuLMxSvoXbg"
      }
    },
    {
      "cell_type": "markdown",
      "source": [
        "\n",
        "# Case Study and Implementation\n",
        "\n",
        "\n"
      ],
      "metadata": {
        "id": "o8VW_IzbI3od"
      }
    },
    {
      "cell_type": "code",
      "source": [
        "#imports\n",
        "import pandas as pd\n",
        "import numpy as np\n",
        "import matplotlib.pyplot as plt\n",
        "import seaborn as sns\n",
        "import os\n",
        "import warnings\n",
        "warnings.filterwarnings('ignore')\n",
        "\n",
        "# Machine Learning imports\n",
        "from sklearn.model_selection import train_test_split, cross_val_score, StratifiedKFold\n",
        "from sklearn.preprocessing import StandardScaler, LabelEncoder\n",
        "from sklearn.ensemble import RandomForestClassifier\n",
        "from sklearn.linear_model import LogisticRegression\n",
        "from sklearn.metrics import (accuracy_score, precision_score, recall_score, f1_score,\n",
        "                           confusion_matrix, roc_auc_score, classification_report)\n",
        "import joblib\n",
        "\n",
        "# Deep Learning imports\n",
        "import tensorflow as tf\n",
        "from tensorflow.keras.models import Sequential, load_model\n",
        "from tensorflow.keras.layers import Dense, Dropout, BatchNormalization\n",
        "from tensorflow.keras.optimizers import Adam, RMSprop, SGD\n",
        "from tensorflow.keras.regularizers import l1, l2, l1_l2\n",
        "from tensorflow.keras.callbacks import EarlyStopping, ReduceLROnPlateau"
      ],
      "metadata": {
        "id": "wGCnpzs9M4Fd"
      },
      "execution_count": 1,
      "outputs": []
    },
    {
      "cell_type": "markdown",
      "source": [
        "# The Dataset\n",
        "# The Dataset\n",
        "\n",
        "## Problem Statement\n",
        "\n",
        "In Rwandan pharmacies, frequent stockouts of essential medications cause:\n",
        "- 30% of patients to experience treatment delays (Rwanda Ministry of Health, 2023)\n",
        "- Wasted time searching across multiple pharmacies\n",
        "- Reactive inventory management leading to poor healthcare outcomes\n",
        "\n",
        "Our goal: Predict drug availability (in-stock/out-of-stock) to optimize pharmacy inventory planning.\n",
        "\"\"\"\n",
        "\n",
        "## Dataset Description\n",
        "\n",
        "**Source**: Pharmacy daily sales records (pharmasalesdaily.csv) from kaggle\n",
        "from IPython.display import Markdown\n",
        "\n",
        "Markdown(\n",
        "**Dataset Source**:  \n",
        "[Pharma Sales Data on Kaggle](https://www.kaggle.com/datasets/milanzdravkovic/pharma-sales-data?utm_source=chatgpt.com)  \n",
        "*Contains daily sales data for 8 drug categories from 2014-2016*\n",
        ")\n",
        "**Time Period**: January 2014 - December 2016 (3 years)\n",
        "**Coverage**: 8 essential drug categories (ATC codes):\n",
        "- M01AB: Anti-inflammatory products\n",
        "- M01AE: Ibuprofen products  \n",
        "- N02BA: Paracetamol\n",
        "- N02BE: Other analgesics\n",
        "- N05B: Anxiolytics\n",
        "- N05C: Hypnotics/sedatives\n",
        "- R03: Anti-asthmatics\n",
        "- R06: Antihistamines\n",
        "\n",
        "**Key Features**:\n",
        "1. Temporal Features:\n",
        "   - Month (1-12)\n",
        "   - Hour of day (0-23)\n",
        "   - Weekday (Monday-Sunday)\n",
        "\n",
        "2. Drug-Specific Metrics:\n",
        "   - Daily sales volume per drug\n",
        "   - 7-day rolling averages (engineered feature)\n",
        "\n",
        "3. Contextual Features:\n",
        "   - Weekend indicator (is_weekend)\n",
        "   - Seasonal markers (quarter)\n",
        "\n",
        "**Target Variable**:\n",
        "- availability: Binary (1=In-Stock, 0=Out-of-Stock)\n",
        "  *Derived from sales data: 0 sales → likely out-of-stock*\n",
        "\n",
        "# Display Sample Data with Styling\n",
        "from IPython.display import display, HTML\n",
        "\n",
        "sample_data =\n",
        "<style>\n",
        ".pharma-table {\n",
        "    font-family: Arial, sans-serif;\n",
        "    border-collapse: collapse;\n",
        "    width: 100%;\n",
        "    margin: 20px 0;\n",
        "    box-shadow: 0 2px 3px rgba(0,0,0,0.1);\n",
        "}\n",
        ".pharma-table th {\n",
        "    background-color: #4CAF50;\n",
        "    color: white;\n",
        "    text-align: left;\n",
        "    padding: 12px;\n",
        "}\n",
        ".pharma-table td {\n",
        "    padding: 10px;\n",
        "    border-bottom: 1px solid #ddd;\n",
        "}\n",
        ".pharma-table tr:nth-child(even) {\n",
        "    background-color: #f2f2f2;\n",
        "}\n",
        ".pharma-table tr:hover {\n",
        "    background-color: #e6f7e6;\n",
        "}\n",
        "</style>\n",
        "\n",
        "<table class=\"pharma-table\">\n",
        "  <tr>\n",
        "    <th>datum</th>\n",
        "    <th>M01AB</th>\n",
        "    <th>M01AE</th>\n",
        "    <th>...</th>\n",
        "    <th>Hour</th>\n",
        "    <th>Weekday Name</th>\n",
        "    <th>Target</th>\n",
        "  </tr>\n",
        "  <tr>\n",
        "    <td>1/2/2014</td>\n",
        "    <td>0.0</td>\n",
        "    <td>3.67</td>\n",
        "    <td>...</td>\n",
        "    <td>248</td>\n",
        "    <td>Thursday</td>\n",
        "    <td style=\"color:green;font-weight:bold\">1 (In-Stock)</td>\n",
        "  </tr>\n",
        "  <tr>\n",
        "    <td>1/3/2014</td>\n",
        "    <td>8.0</td>\n",
        "    <td>4.00</td>\n",
        "    <td>...</td>\n",
        "    <td>276</td>\n",
        "    <td>Friday</td>\n",
        "    <td style=\"color:green;font-weight:bold\">1 (In-Stock)</td>\n",
        "  </tr>\n",
        "  <tr>\n",
        "    <td>1/4/2014</td>\n",
        "    <td>2.0</td>\n",
        "    <td>1.00</td>\n",
        "    <td>...</td>\n",
        "    <td>276</td>\n",
        "    <td>Saturday</td>\n",
        "    <td style=\"color:green;font-weight:bold\">1 (In-Stock)</td>\n",
        "  </tr>\n",
        "  <tr>\n",
        "    <td>1/5/2014</td>\n",
        "    <td>0.0</td>\n",
        "    <td>0.00</td>\n",
        "    <td>...</td>\n",
        "    <td>276</td>\n",
        "    <td>Sunday</td>\n",
        "    <td style=\"color:red;font-weight:bold\">0 (Out-of-Stock)</td>\n",
        "  </tr>\n",
        "</table>\n",
        "\n",
        "display(HTML(sample_data))\n",
        "**Key Characteristics**:\n",
        "- 1,095 daily records (3 years)\n",
        "- 13 original features + 4 engineered features\n",
        "- Class imbalance: ~65% in-stock, 35% out-of-stock\n",
        "- Missing values handled via forward-fill\n",
        "\n",
        "\n",
        "## Business Relevance\n",
        "\n",
        "This data enables:\n",
        "1. Pattern recognition in drug demand cycles\n",
        "2. Prediction of stockouts before they occur  \n",
        "3. Evidence-based inventory decisions per Rwanda's pharmacy needs\n",
        "\n"
      ],
      "metadata": {
        "id": "M1FN7bFeIxfH"
      }
    },
    {
      "cell_type": "code",
      "source": [],
      "metadata": {
        "id": "nas-T7xwPIso"
      },
      "execution_count": null,
      "outputs": []
    },
    {
      "cell_type": "markdown",
      "source": [
        "#SECTION 1: Model Architecture:\n",
        "\n",
        "\n",
        "\n",
        "```\n",
        "TODO: Insert an image with the Model architecture here.Replace the image Below\n",
        "```\n",
        "> <img src=\"https://miro.medium.com/v2/resize:fit:640/format:webp/1*v1ohAG82xmU6WGsG2hoE8g.png\" alt=\"?\" style=\"width:25px\"/>\n",
        "\n",
        "\n"
      ],
      "metadata": {
        "id": "ve4AiQmGMzIN"
      }
    },
    {
      "cell_type": "markdown",
      "source": [
        "#Task: Define a function that creates models without and With specified Optimization techniques\n"
      ],
      "metadata": {
        "id": "QR4BNYoUMzMP"
      }
    },
    {
      "cell_type": "code",
      "source": [
        "from tensorflow.keras.optimizers import Adam, RMSprop\n",
        "from tensorflow.keras.regularizer\n",
        "from tensorflow.keras.callbacks import EarlyStopping\n",
        "\n",
        "\n",
        "def define_model(optimization: string, regularization_datatype, early_stopping: bool, dropout: float, learning_rate: float):\n",
        "  model= None\n",
        "  model.add(None)\n",
        "  #TO DO: Add more layers as per architecture\n",
        "  model.add(None) # Last Layer\n",
        "  model.compile(optimizer = optimizerNone)\n",
        "  model.fit(None)\n",
        "  return model"
      ],
      "metadata": {
        "id": "gGtPmYb_SDHy"
      },
      "execution_count": null,
      "outputs": []
    },
    {
      "cell_type": "markdown",
      "source": [
        "# Task: Print out the Final Model Accuracy and plot the Loss curve"
      ],
      "metadata": {
        "id": "KJ9OXp1TSaXn"
      }
    },
    {
      "cell_type": "code",
      "source": [
        "def loss_curve_plot(None):\n",
        "  epochs = None\n",
        "  plt.plot(epochs, loss, 'bo', label='Training loss')\n",
        "  plt.plot(epochs, val_loss, 'r', label='Validation loss')\n",
        "  plt.title('Training and Validation Loss')\n",
        "  plt.xlabel('Epochs')\n",
        "  plt.ylabel('Loss')\n",
        "  plt.legend()\n",
        "  plt.show()"
      ],
      "metadata": {
        "id": "fkihQBsaUxGh"
      },
      "execution_count": null,
      "outputs": []
    },
    {
      "cell_type": "markdown",
      "source": [
        "# SECTION 2: Optimization and Regularization Combinations\n",
        "At this point you should now create models that combine various optimization techniques\n",
        "As done before make sure to plot out the loss curve and the accuracy and loss in verbose"
      ],
      "metadata": {
        "id": "9hc6k2taT0_n"
      }
    },
    {
      "cell_type": "code",
      "source": [
        "#TODO:\n",
        "model_2 = define_model('Adam', None)\n",
        "loss_curve_plot(model_2):\n",
        "#print out confusion matrix and error analysis metrics after the cell"
      ],
      "metadata": {
        "id": "nr6HuVEtXvoP"
      },
      "execution_count": null,
      "outputs": []
    },
    {
      "cell_type": "code",
      "source": [
        "#TODO:\n",
        "model_3 = define_model('RMSPop',None)\n",
        "loss_curve_plot(model_3):\n",
        "#print out confusion matrix and error analysis metrics after the cell"
      ],
      "metadata": {
        "id": "UygzqjB-Xvgo"
      },
      "execution_count": null,
      "outputs": []
    },
    {
      "cell_type": "code",
      "source": [
        "#TODO:\n",
        "model_4 = define_model(None)\n",
        "loss_curve_plot(model_4):\n",
        "#print out confusion matrix and error analysis metrics after the cell"
      ],
      "metadata": {
        "id": "9NEtnjqxXvXm"
      },
      "execution_count": null,
      "outputs": []
    },
    {
      "cell_type": "markdown",
      "source": [
        "#Task: Make Predictions using the best saved model\n"
      ],
      "metadata": {
        "id": "3aZLEriYOXI1"
      }
    },
    {
      "cell_type": "markdown",
      "source": [
        "Create a confusion Matrix and F1 score for both Models. Ensure outputs for the cells are visible"
      ],
      "metadata": {
        "id": "LnBLwqTJX3p0"
      }
    },
    {
      "cell_type": "markdown",
      "source": [
        "Finally, Make predictions using the best model. By the time you get to this cell you may realise at some point you needed to save the model so that you cal load it later"
      ],
      "metadata": {
        "id": "bO79SOsZYG-M"
      }
    },
    {
      "cell_type": "code",
      "source": [
        "def make_predictions(model_path, X):\n",
        "\n",
        "    # Load the model\n",
        "    model = load_model(None)\n",
        "    # Make predictions\n",
        "    predictions = None\n",
        "    # Convert probabilities to binary labels (0 or 1)\n",
        "\n",
        "    return predictions\n",
        "\n",
        "#Modify the code appropriately"
      ],
      "metadata": {
        "id": "Nqqe2PasUIAG"
      },
      "execution_count": null,
      "outputs": []
    },
    {
      "cell_type": "code",
      "source": [
        "model_path = None\n",
        "make_predictions(None)"
      ],
      "metadata": {
        "id": "O_jwbvaAUMj4"
      },
      "execution_count": null,
      "outputs": []
    },
    {
      "cell_type": "markdown",
      "source": [
        "Congratulations!!\n"
      ],
      "metadata": {
        "id": "rfTHk2nZMzTH"
      }
    }
  ]
}